{
 "cells": [
  {
   "cell_type": "markdown",
   "metadata": {},
   "source": [
    "# Binary Tree Maximum Path Sum"
   ]
  },
  {
   "cell_type": "markdown",
   "metadata": {},
   "source": [
    "Given a non-empty binary tree, find the maximum path sum.\n",
    "\n",
    "For this problem, a path is defined as any sequence of nodes from some starting node to any node in the tree along the parent-child connections. The path must contain at least one node and does not need to go through the root.\n",
    "\n",
    "Example 1:\n",
    "\n",
    "    Input: [1,2,3]\n",
    "\n",
    "           1\n",
    "          / \\\n",
    "         2   3\n",
    "\n",
    "    Output: 6\n",
    "Example 2:\n",
    "\n",
    "    Input: [-10,9,20,null,null,15,7]\n",
    "\n",
    "       -10\n",
    "       / \\\n",
    "      9  20\n",
    "        /  \\\n",
    "       15   7\n",
    "\n",
    "    Output: 42"
   ]
  },
  {
   "cell_type": "code",
   "execution_count": 1,
   "metadata": {},
   "outputs": [],
   "source": [
    "# Definition for a binary tree node.\n",
    "class TreeNode:\n",
    "    def __init__(self, x):\n",
    "        self.val = x\n",
    "        self.left = None\n",
    "        self.right = None\n",
    "\n",
    "class Solution:\n",
    "    def findmaxPathSum(self, root):\n",
    "        # return 0 if empty root is passed \n",
    "        if root is None: \n",
    "            return 0 \n",
    "\n",
    "        # The leftBranchNodes store's maximum sum of path traversing through left of root\n",
    "        leftBranchNodes = self.findmaxPathSum(root.left) \n",
    "        # The rightBranchNodes store's maximum sum of path traversing through right of root\n",
    "        rightBranchNodes = self.findmaxPathSum(root.right) \n",
    "\n",
    "        # Get max path sum of root till this node. should have at least one child of root \n",
    "        maxParent = max(max(leftBranchNodes, rightBranchNodes) + root.val, root.val) \n",
    "\n",
    "        # Get the max sum path till topMost node\n",
    "        topMost = max(maxParent, leftBranchNodes + rightBranchNodes + root.val) \n",
    "\n",
    "        # Store the maximum result in the class member \n",
    "        self.result = max(self.result, topMost)  \n",
    "\n",
    "        return maxParent\n",
    "\n",
    "    # Find the maximum path sum. \n",
    "    def maxPathSum(self, root):\n",
    "        \"\"\"\n",
    "        :type root: TreeNode\n",
    "        :rtype: int\n",
    "        \"\"\"         \n",
    "        # Initialize member variable result \n",
    "        self.result = float(\"-inf\")\n",
    "        # Given a non-empty binary tree, find the maximum path sum.\n",
    "        self.findmaxPathSum(root) \n",
    "        return self.result "
   ]
  },
  {
   "cell_type": "markdown",
   "metadata": {},
   "source": [
    "### Test Cases"
   ]
  },
  {
   "cell_type": "code",
   "execution_count": 2,
   "metadata": {},
   "outputs": [],
   "source": [
    "sol1 = Solution()"
   ]
  },
  {
   "cell_type": "raw",
   "metadata": {},
   "source": [
    "                 1\n",
    "      -2                 -3\n",
    "   1         3\n",
    "-2 null   -1"
   ]
  },
  {
   "cell_type": "code",
   "execution_count": 3,
   "metadata": {},
   "outputs": [
    {
     "name": "stdout",
     "output_type": "stream",
     "text": [
      "3\n"
     ]
    }
   ],
   "source": [
    "#[1,-2,-3,1,3,-2,null,-1]\n",
    "root = TreeNode(1)\n",
    "root.left = TreeNode(-2)\n",
    "root.right = TreeNode(-3) \n",
    "root.left.left = TreeNode(1) \n",
    "root.left.right = TreeNode(3)\n",
    "root.left.left.left = TreeNode(-2)\n",
    "root.left.right.left = TreeNode(-1) \n",
    "print(sol1.maxPathSum(root))"
   ]
  },
  {
   "cell_type": "code",
   "execution_count": 4,
   "metadata": {},
   "outputs": [
    {
     "name": "stdout",
     "output_type": "stream",
     "text": [
      "1\n"
     ]
    }
   ],
   "source": [
    "root = TreeNode(-2)\n",
    "root.left = TreeNode(1)\n",
    "print(sol1.maxPathSum(root))"
   ]
  },
  {
   "cell_type": "code",
   "execution_count": 5,
   "metadata": {},
   "outputs": [
    {
     "name": "stdout",
     "output_type": "stream",
     "text": [
      "2\n"
     ]
    }
   ],
   "source": [
    "root = TreeNode(2)\n",
    "root.left = TreeNode(-1)\n",
    "root.right = TreeNode(-2)\n",
    "print(sol1.maxPathSum(root))"
   ]
  },
  {
   "cell_type": "code",
   "execution_count": 6,
   "metadata": {},
   "outputs": [
    {
     "name": "stdout",
     "output_type": "stream",
     "text": [
      "42\n"
     ]
    }
   ],
   "source": [
    "#[-10,9,20,null,null,15,7]\n",
    "root = TreeNode(-10)\n",
    "root.left = TreeNode(9)\n",
    "root.right = TreeNode(20) \n",
    "root.right.left = TreeNode(15) \n",
    "root.right.right = TreeNode(7) \n",
    "print(sol1.maxPathSum(root))"
   ]
  },
  {
   "cell_type": "code",
   "execution_count": 7,
   "metadata": {},
   "outputs": [
    {
     "name": "stdout",
     "output_type": "stream",
     "text": [
      "6\n"
     ]
    }
   ],
   "source": [
    "root = TreeNode(1)\n",
    "root.left = TreeNode(2)\n",
    "root.right = TreeNode(3) \n",
    "print(sol1.maxPathSum(root))"
   ]
  },
  {
   "cell_type": "code",
   "execution_count": 8,
   "metadata": {},
   "outputs": [
    {
     "name": "stdout",
     "output_type": "stream",
     "text": [
      "4\n"
     ]
    }
   ],
   "source": [
    "root = TreeNode(1)\n",
    "root.left = TreeNode(-2)\n",
    "root.right = TreeNode(3) \n",
    "print(sol1.maxPathSum(root))"
   ]
  },
  {
   "cell_type": "code",
   "execution_count": 9,
   "metadata": {},
   "outputs": [
    {
     "name": "stdout",
     "output_type": "stream",
     "text": [
      "2\n"
     ]
    }
   ],
   "source": [
    "root = TreeNode(2)\n",
    "root.left = TreeNode(-1)\n",
    "print(sol1.maxPathSum(root))"
   ]
  },
  {
   "cell_type": "code",
   "execution_count": 10,
   "metadata": {},
   "outputs": [
    {
     "name": "stdout",
     "output_type": "stream",
     "text": [
      "3\n"
     ]
    }
   ],
   "source": [
    "root = TreeNode(1)\n",
    "root.left = TreeNode(2)\n",
    "print(sol1.maxPathSum(root))"
   ]
  },
  {
   "cell_type": "code",
   "execution_count": 11,
   "metadata": {},
   "outputs": [
    {
     "name": "stdout",
     "output_type": "stream",
     "text": [
      "1\n"
     ]
    }
   ],
   "source": [
    "root = TreeNode(1) \n",
    "print(sol1.maxPathSum(root))"
   ]
  },
  {
   "cell_type": "code",
   "execution_count": 12,
   "metadata": {},
   "outputs": [
    {
     "name": "stdout",
     "output_type": "stream",
     "text": [
      "0\n"
     ]
    }
   ],
   "source": [
    "root = TreeNode(0) \n",
    "print(sol1.maxPathSum(root))"
   ]
  },
  {
   "cell_type": "code",
   "execution_count": 13,
   "metadata": {},
   "outputs": [
    {
     "name": "stdout",
     "output_type": "stream",
     "text": [
      "27\n"
     ]
    }
   ],
   "source": [
    "root = TreeNode(-15) \n",
    "root.left = TreeNode(5) \n",
    "root.right = TreeNode(6) \n",
    "root.left.left = TreeNode(-8) \n",
    "root.left.right = TreeNode(1) \n",
    "root.left.left.left = TreeNode(2) \n",
    "root.left.left.right = TreeNode(6) \n",
    "root.right.left = TreeNode(3) \n",
    "root.right.right = TreeNode(9) \n",
    "root.right.right.right= TreeNode(0) \n",
    "root.right.right.right.left = TreeNode(4) \n",
    "root.right.right.right.right = TreeNode(-1) \n",
    "root.right.right.right.right.left = TreeNode(10) \n",
    "\n",
    "\n",
    "print(sol1.maxPathSum(root))"
   ]
  },
  {
   "cell_type": "code",
   "execution_count": null,
   "metadata": {},
   "outputs": [],
   "source": []
  },
  {
   "cell_type": "code",
   "execution_count": null,
   "metadata": {},
   "outputs": [],
   "source": []
  },
  {
   "cell_type": "code",
   "execution_count": null,
   "metadata": {},
   "outputs": [],
   "source": []
  }
 ],
 "metadata": {
  "kernelspec": {
   "display_name": "Python 3",
   "language": "python",
   "name": "python3"
  },
  "language_info": {
   "codemirror_mode": {
    "name": "ipython",
    "version": 3
   },
   "file_extension": ".py",
   "mimetype": "text/x-python",
   "name": "python",
   "nbconvert_exporter": "python",
   "pygments_lexer": "ipython3",
   "version": "3.6.5"
  }
 },
 "nbformat": 4,
 "nbformat_minor": 2
}
